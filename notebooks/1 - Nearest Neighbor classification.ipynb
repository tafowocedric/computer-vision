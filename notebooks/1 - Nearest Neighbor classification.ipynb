{
 "cells": [
  {
   "cell_type": "code",
   "execution_count": 4,
   "id": "c6701ace-f3b5-4e65-abe4-399651d49b60",
   "metadata": {},
   "outputs": [],
   "source": [
    "import numpy as np"
   ]
  },
  {
   "cell_type": "code",
   "execution_count": 5,
   "id": "60babaf1-4d4f-42b4-ba39-789c15c70620",
   "metadata": {},
   "outputs": [],
   "source": [
    "class NearestNeighbor:\n",
    "    def __init__(self):\n",
    "        pass\n",
    "    \n",
    "    def train(self, X, y):\n",
    "        \"\"\"X is N * D where each row is an example. Y is 1-dim of size N\"\"\"\n",
    "        # the nearest neighbor classifier simply remembers all the training data\n",
    "        self.Xtr = X\n",
    "        self.ytr = y\n",
    "        \n",
    "    def predict(self, X):\n",
    "        \"\"\" X is N x D where each row is an example we wish to predict label for\"\"\"\n",
    "        num_test = X.shape[0]\n",
    "        # lets make sure that the output type matches the input type\n",
    "        Ypred = np.zeros(num_test, dtype=self.ytr.dtype)\n",
    "        \n",
    "        #loop over all test row\n",
    "        for i in range(num_test):\n",
    "            #find the nearest training image to the ith test image\n",
    "            #using the L1 distance (sum of absolute value difference)\n",
    "            distances = np.sum(np.abs(self.Xtr - X[1, :]), axis=1)\n",
    "            min_index = np.argmin(distances) # get the index with smallest distance\n",
    "            \n",
    "            Ypred[i] = self.ytr[min_index] # predict the label of the nearest example\n",
    "            \n",
    "        return Ypred\n",
    "    "
   ]
  },
  {
   "cell_type": "code",
   "execution_count": null,
   "id": "129f9864-d0f3-4659-99f4-abfbad7a04b7",
   "metadata": {},
   "outputs": [],
   "source": []
  }
 ],
 "metadata": {
  "kernelspec": {
   "display_name": "Python 3 (ipykernel)",
   "language": "python",
   "name": "python3"
  },
  "language_info": {
   "codemirror_mode": {
    "name": "ipython",
    "version": 3
   },
   "file_extension": ".py",
   "mimetype": "text/x-python",
   "name": "python",
   "nbconvert_exporter": "python",
   "pygments_lexer": "ipython3",
   "version": "3.8.3"
  }
 },
 "nbformat": 4,
 "nbformat_minor": 5
}
